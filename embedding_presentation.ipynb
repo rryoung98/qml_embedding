{
 "cells": [
  {
   "cell_type": "markdown",
   "id": "80e717f3-d635-493b-bca0-338aab2fa428",
   "metadata": {},
   "source": [
    "# Welcome!\n",
    "Today, we'll be using qBraid to understand how to embed classical images into quantum registers, the current embedding implementations, and the current limitations and problems at hand. "
   ]
  },
  {
   "cell_type": "markdown",
   "id": "b933f857-4545-46e1-b87f-367ef53f240b",
   "metadata": {},
   "source": [
    "## Getting Started on qBraid\n",
    "\n",
    "### Step 1.\n",
    "If you haven't already done so, please make a qBraid account and add the access code `EHNU6626` on the account.qbraid.com/account-details page. \n",
    "\n",
    "\n",
    "### Step 2.\n",
    "Then click on the `Launch on qBraid` button in the README.md of this repository. The button will automatically clone the repository and take you to your *new* qBraid Lab integrated development environment. \n",
    "\n",
    "### Step 3.\n",
    "Finally, install the qBraid-SDK environment via the qBraid Lab Environment Manager. On Lab you should see the `ENVS` icon on the right. The qBraid Lab Environment Manager is a robust package and virtual environment management system provided to qBraid end-users through a simple, intuitive graphical user interface. To expand the Environment Manager sidebar, click on Envs in the upper-right of the Lab console. My Environments are your currently installed environments. The qBraid Default environment and Microsoft Q# environment are installed by default.\n",
    "\n",
    "Install environment\n",
    "1. In the Environment Manager sidebar, click Add to view the environments available to install.\n",
    "\n",
    "Choose the qBraid SDK, expand its panel, and click Install.\n",
    "\n",
    "<img src=\"./_images/env_install.png\">\n",
    "\n",
    "3. Once the installation has started, the pannel is moved to the My Environments tab. Click Browse Environments to return to the My Environments tab and view its progress.\n",
    "\n",
    "\n",
    "\n",
    "Browse Environments to return to the My Environments tab and view its progress.\n",
    "\n",
    "<img src=\"./_images/env_installing.png\">\n",
    "\n",
    "4. When the installation is complete, the environment panel’s action button will switch from Installing… to Activate. Clicking Activate creates a new ipykernel, see Kernels for more.\n",
    "\n",
    "<img src=\"./_images/kernel_activate.png\">\n",
    "\n",
    "To uninstall the environment, click on More, and then Uninstall. Learn more about qBraid Lab Environment Manager [here](https://qbraid-qbraid.readthedocs-hosted.com/en/stable/lab/environments.html#)"
   ]
  },
  {
   "cell_type": "markdown",
   "id": "d00a0699-bdc0-4e89-9859-5ca716d4bb8c",
   "metadata": {},
   "source": [
    "## Activate the qBraid SDK kernel\n",
    "Under My Environments, choose the environment, and expand its pannel. Click Activate to activate the environment and create an associated ipykernel.\n",
    "\n",
    "<img src=\"./_images/kernel_activate.png\">\n",
    "\n",
    "Switch notebook kernel\n",
    "In the Launcher tab, under Notebooks, clicking on an ipykernel associated with an activated environment will automatically launch a Jupyter notebook (.ipynb file) using that kernel. In the upper-right of the newly created notebook, you can see which kernel is in use.\n",
    "\n",
    "<img src=\"./_images/kernel_nb.png\">\n",
    "\n",
    "Clicking on the name of the current kernel, as circled above, will open the kernel selector, and allow you switch to any other active kernel.\n",
    "\n",
    "<img src=\"./_images/kernel_switch.png\">\n"
   ]
  },
  {
   "cell_type": "markdown",
   "id": "d6b10931-f6eb-42eb-a2d0-ec03dffbacf1",
   "metadata": {},
   "source": [
    "Next we'll install tensorflow:"
   ]
  },
  {
   "cell_type": "code",
   "execution_count": 1,
   "id": "4d38e2d0-7934-443f-92b1-6e499166a1bb",
   "metadata": {},
   "outputs": [
    {
     "name": "stdout",
     "output_type": "stream",
     "text": [
      "\u001b[31mERROR: Could not find a version that satisfies the requirement tensorflow (from versions: none)\u001b[0m\u001b[31m\n",
      "\u001b[0m\u001b[31mERROR: No matching distribution found for tensorflow\u001b[0m\u001b[31m\n",
      "\u001b[0mNote: you may need to restart the kernel to use updated packages.\n",
      "Collecting tensorboard\n",
      "  Downloading tensorboard-2.11.0-py3-none-any.whl (6.0 MB)\n",
      "\u001b[2K     \u001b[38;2;114;156;31m━━━━━━━━━━━━━━━━━━━━━━━━━━━━━━━━━━━━━━━━\u001b[0m \u001b[32m6.0/6.0 MB\u001b[0m \u001b[31m881.5 kB/s\u001b[0m eta \u001b[36m0:00:00\u001b[0mm eta \u001b[36m0:00:01\u001b[0m[36m0:00:01\u001b[0m\n",
      "\u001b[?25hRequirement already satisfied: wheel>=0.26 in /Users/rickyyoung/opt/anaconda3/envs/qml/lib/python3.9/site-packages (from tensorboard) (0.37.1)\n",
      "Collecting tensorboard-data-server<0.7.0,>=0.6.0\n",
      "  Downloading tensorboard_data_server-0.6.1-py3-none-any.whl (2.4 kB)\n",
      "Collecting google-auth-oauthlib<0.5,>=0.4.1\n",
      "  Downloading google_auth_oauthlib-0.4.6-py2.py3-none-any.whl (18 kB)\n",
      "Collecting tensorboard-plugin-wit>=1.6.0\n",
      "  Downloading tensorboard_plugin_wit-1.8.1-py3-none-any.whl (781 kB)\n",
      "\u001b[2K     \u001b[38;2;114;156;31m━━━━━━━━━━━━━━━━━━━━━━━━━━━━━━━━━━━━━\u001b[0m \u001b[32m781.3/781.3 kB\u001b[0m \u001b[31m612.8 kB/s\u001b[0m eta \u001b[36m0:00:00\u001b[0mm eta \u001b[36m0:00:01\u001b[0m[36m0:00:01\u001b[0m\n",
      "\u001b[?25hCollecting google-auth<3,>=1.6.3\n",
      "  Downloading google_auth-2.14.1-py2.py3-none-any.whl (175 kB)\n",
      "\u001b[2K     \u001b[38;2;114;156;31m━━━━━━━━━━━━━━━━━━━━━━━━━━━━━━━━━━━━━\u001b[0m \u001b[32m175.4/175.4 kB\u001b[0m \u001b[31m966.3 kB/s\u001b[0m eta \u001b[36m0:00:00\u001b[0m kB/s\u001b[0m eta \u001b[36m0:00:01\u001b[0m\n",
      "\u001b[?25hCollecting grpcio>=1.24.3\n",
      "  Downloading grpcio-1.50.0.tar.gz (22.1 MB)\n",
      "\u001b[2K     \u001b[38;2;114;156;31m━━━━━━━━━━━━━━━━━━━━━━━━━━━━━━━━━━━━━━━\u001b[0m \u001b[32m22.1/22.1 MB\u001b[0m \u001b[31m765.0 kB/s\u001b[0m eta \u001b[36m0:00:00\u001b[0mm eta \u001b[36m0:00:01\u001b[0m[36m0:00:01\u001b[0m\n",
      "\u001b[?25h  Preparing metadata (setup.py) ... \u001b[?25ldone\n",
      "\u001b[?25hCollecting absl-py>=0.4\n",
      "  Downloading absl_py-1.3.0-py3-none-any.whl (124 kB)\n",
      "\u001b[2K     \u001b[38;2;114;156;31m━━━━━━━━━━━━━━━━━━━━━━━━━━━━━━━━━━━━━\u001b[0m \u001b[32m124.6/124.6 kB\u001b[0m \u001b[31m983.3 kB/s\u001b[0m eta \u001b[36m0:00:00\u001b[0m[36m0:00:01\u001b[0m[36m0:00:01\u001b[0m:01\u001b[0m\n",
      "\u001b[?25hCollecting markdown>=2.6.8\n",
      "  Downloading Markdown-3.4.1-py3-none-any.whl (93 kB)\n",
      "\u001b[2K     \u001b[38;2;114;156;31m━━━━━━━━━━━━━━━━━━━━━━━━━━━━━━━━━━━━━━━━\u001b[0m \u001b[32m93.3/93.3 kB\u001b[0m \u001b[31m1.5 MB/s\u001b[0m eta \u001b[36m0:00:00\u001b[0m MB/s\u001b[0m eta \u001b[36m0:00:01\u001b[0m\n",
      "\u001b[?25hCollecting werkzeug>=1.0.1\n",
      "  Downloading Werkzeug-2.2.2-py3-none-any.whl (232 kB)\n",
      "\u001b[2K     \u001b[38;2;114;156;31m━━━━━━━━━━━━━━━━━━━━━━━━━━━━━━━━━━━━━\u001b[0m \u001b[32m232.7/232.7 kB\u001b[0m \u001b[31m527.1 kB/s\u001b[0m eta \u001b[36m0:00:00\u001b[0m1m540.9 kB/s\u001b[0m eta \u001b[36m0:00:01\u001b[0m\n",
      "\u001b[?25hRequirement already satisfied: requests<3,>=2.21.0 in /Users/rickyyoung/opt/anaconda3/envs/qml/lib/python3.9/site-packages (from tensorboard) (2.28.1)\n",
      "Requirement already satisfied: setuptools>=41.0.0 in /Users/rickyyoung/opt/anaconda3/envs/qml/lib/python3.9/site-packages (from tensorboard) (65.5.0)\n",
      "Requirement already satisfied: numpy>=1.12.0 in /Users/rickyyoung/opt/anaconda3/envs/qml/lib/python3.9/site-packages (from tensorboard) (1.23.5)\n",
      "Collecting protobuf<4,>=3.9.2\n",
      "  Downloading protobuf-3.20.3-py2.py3-none-any.whl (162 kB)\n",
      "\u001b[2K     \u001b[38;2;114;156;31m━━━━━━━━━━━━━━━━━━━━━━━━━━━━━━━━━━━━━\u001b[0m \u001b[32m162.1/162.1 kB\u001b[0m \u001b[31m493.2 kB/s\u001b[0m eta \u001b[36m0:00:00\u001b[0m kB/s\u001b[0m eta \u001b[36m0:00:01\u001b[0m:01\u001b[0m\n",
      "\u001b[?25hCollecting cachetools<6.0,>=2.0.0\n",
      "  Using cached cachetools-5.2.0-py3-none-any.whl (9.3 kB)\n",
      "Requirement already satisfied: six>=1.9.0 in /Users/rickyyoung/opt/anaconda3/envs/qml/lib/python3.9/site-packages (from google-auth<3,>=1.6.3->tensorboard) (1.16.0)\n",
      "Collecting rsa<5,>=3.1.4\n",
      "  Downloading rsa-4.9-py3-none-any.whl (34 kB)\n",
      "Collecting pyasn1-modules>=0.2.1\n",
      "  Downloading pyasn1_modules-0.2.8-py2.py3-none-any.whl (155 kB)\n",
      "\u001b[2K     \u001b[38;2;114;156;31m━━━━━━━━━━━━━━━━━━━━━━━━━━━━━━━━━━━━━━━\u001b[0m \u001b[32m155.3/155.3 kB\u001b[0m \u001b[31m1.4 MB/s\u001b[0m eta \u001b[36m0:00:00\u001b[0m[31m2.1 MB/s\u001b[0m eta \u001b[36m0:00:01\u001b[0m\n",
      "\u001b[?25hCollecting requests-oauthlib>=0.7.0\n",
      "  Downloading requests_oauthlib-1.3.1-py2.py3-none-any.whl (23 kB)\n",
      "Requirement already satisfied: importlib-metadata>=4.4 in /Users/rickyyoung/opt/anaconda3/envs/qml/lib/python3.9/site-packages (from markdown>=2.6.8->tensorboard) (5.1.0)\n",
      "Requirement already satisfied: certifi>=2017.4.17 in /Users/rickyyoung/opt/anaconda3/envs/qml/lib/python3.9/site-packages (from requests<3,>=2.21.0->tensorboard) (2022.9.24)\n",
      "Requirement already satisfied: urllib3<1.27,>=1.21.1 in /Users/rickyyoung/opt/anaconda3/envs/qml/lib/python3.9/site-packages (from requests<3,>=2.21.0->tensorboard) (1.26.13)\n",
      "Requirement already satisfied: idna<4,>=2.5 in /Users/rickyyoung/opt/anaconda3/envs/qml/lib/python3.9/site-packages (from requests<3,>=2.21.0->tensorboard) (3.4)\n",
      "Requirement already satisfied: charset-normalizer<3,>=2 in /Users/rickyyoung/opt/anaconda3/envs/qml/lib/python3.9/site-packages (from requests<3,>=2.21.0->tensorboard) (2.1.1)\n",
      "Requirement already satisfied: MarkupSafe>=2.1.1 in /Users/rickyyoung/opt/anaconda3/envs/qml/lib/python3.9/site-packages (from werkzeug>=1.0.1->tensorboard) (2.1.1)\n",
      "Requirement already satisfied: zipp>=0.5 in /Users/rickyyoung/opt/anaconda3/envs/qml/lib/python3.9/site-packages (from importlib-metadata>=4.4->markdown>=2.6.8->tensorboard) (3.11.0)\n",
      "Collecting pyasn1<0.5.0,>=0.4.6\n",
      "  Downloading pyasn1-0.4.8-py2.py3-none-any.whl (77 kB)\n",
      "\u001b[2K     \u001b[38;2;114;156;31m━━━━━━━━━━━━━━━━━━━━━━━━━━━━━━━━━━━━━━━━\u001b[0m \u001b[32m77.1/77.1 kB\u001b[0m \u001b[31m1.1 MB/s\u001b[0m eta \u001b[36m0:00:00\u001b[0m MB/s\u001b[0m eta \u001b[36m0:00:01\u001b[0m\n",
      "\u001b[?25hCollecting oauthlib>=3.0.0\n",
      "  Downloading oauthlib-3.2.2-py3-none-any.whl (151 kB)\n",
      "\u001b[2K     \u001b[38;2;114;156;31m━━━━━━━━━━━━━━━━━━━━━━━━━━━━━━━━━━━━━\u001b[0m \u001b[32m151.7/151.7 kB\u001b[0m \u001b[31m547.3 kB/s\u001b[0m eta \u001b[36m0:00:00\u001b[0m1m564.6 kB/s\u001b[0m eta \u001b[36m0:00:01\u001b[0m\n",
      "\u001b[?25hBuilding wheels for collected packages: grpcio\n",
      "  Building wheel for grpcio (setup.py) ... \u001b[?25ldone\n",
      "\u001b[?25h  Created wheel for grpcio: filename=grpcio-1.50.0-cp39-cp39-macosx_11_0_arm64.whl size=3352538 sha256=8b100df589b6bb3514e9543658242d83f1721ef990a071ffef73a50dd4121a14\n",
      "  Stored in directory: /Users/rickyyoung/Library/Caches/pip/wheels/90/41/80/c90fd03cd187c25bf4b5ed588e956956bf7ec97b924ccc228a\n",
      "Successfully built grpcio\n",
      "Installing collected packages: tensorboard-plugin-wit, pyasn1, werkzeug, tensorboard-data-server, rsa, pyasn1-modules, protobuf, oauthlib, grpcio, cachetools, absl-py, requests-oauthlib, markdown, google-auth, google-auth-oauthlib, tensorboard\n",
      "Successfully installed absl-py-1.3.0 cachetools-5.2.0 google-auth-2.14.1 google-auth-oauthlib-0.4.6 grpcio-1.50.0 markdown-3.4.1 oauthlib-3.2.2 protobuf-3.20.3 pyasn1-0.4.8 pyasn1-modules-0.2.8 requests-oauthlib-1.3.1 rsa-4.9 tensorboard-2.11.0 tensorboard-data-server-0.6.1 tensorboard-plugin-wit-1.8.1 werkzeug-2.2.2\n",
      "Note: you may need to restart the kernel to use updated packages.\n",
      "Collecting scikit-plot\n",
      "  Downloading scikit_plot-0.3.7-py3-none-any.whl (33 kB)\n",
      "Requirement already satisfied: scipy>=0.9 in /Users/rickyyoung/opt/anaconda3/envs/qml/lib/python3.9/site-packages (from scikit-plot) (1.9.3)\n",
      "Collecting matplotlib>=1.4.0\n",
      "  Downloading matplotlib-3.6.2-cp39-cp39-macosx_11_0_arm64.whl (7.2 MB)\n",
      "\u001b[2K     \u001b[38;2;114;156;31m━━━━━━━━━━━━━━━━━━━━━━━━━━━━━━━━━━━━━━━━\u001b[0m \u001b[32m7.2/7.2 MB\u001b[0m \u001b[31m803.0 kB/s\u001b[0m eta \u001b[36m0:00:00\u001b[0mm eta \u001b[36m0:00:01\u001b[0m[36m0:00:01\u001b[0m\n",
      "\u001b[?25hCollecting joblib>=0.10\n",
      "  Downloading joblib-1.2.0-py3-none-any.whl (297 kB)\n",
      "\u001b[2K     \u001b[38;2;114;156;31m━━━━━━━━━━━━━━━━━━━━━━━━━━━━━━━━━━━━━\u001b[0m \u001b[32m298.0/298.0 kB\u001b[0m \u001b[31m599.8 kB/s\u001b[0m eta \u001b[36m0:00:00\u001b[0mm eta \u001b[36m0:00:01\u001b[0m[36m0:00:01\u001b[0m\n",
      "\u001b[?25hCollecting scikit-learn>=0.18\n",
      "  Downloading scikit_learn-1.1.3-cp39-cp39-macosx_12_0_arm64.whl (7.7 MB)\n",
      "\u001b[2K     \u001b[38;2;114;156;31m━━━━━━━━━━━━━━━━━━━━━━━━━━━━━━━━━━━━━━━━\u001b[0m \u001b[32m7.7/7.7 MB\u001b[0m \u001b[31m655.4 kB/s\u001b[0m eta \u001b[36m0:00:00\u001b[0mm eta \u001b[36m0:00:01\u001b[0m[36m0:00:01\u001b[0m\n",
      "\u001b[?25hCollecting contourpy>=1.0.1\n",
      "  Downloading contourpy-1.0.6-cp39-cp39-macosx_11_0_arm64.whl (226 kB)\n",
      "\u001b[2K     \u001b[38;2;114;156;31m━━━━━━━━━━━━━━━━━━━━━━━━━━━━━━━━━━━━━\u001b[0m \u001b[32m226.0/226.0 kB\u001b[0m \u001b[31m685.8 kB/s\u001b[0m eta \u001b[36m0:00:00\u001b[0mm eta \u001b[36m0:00:01\u001b[0m[36m0:00:01\u001b[0m\n",
      "\u001b[?25hCollecting kiwisolver>=1.0.1\n",
      "  Downloading kiwisolver-1.4.4-cp39-cp39-macosx_11_0_arm64.whl (63 kB)\n",
      "\u001b[2K     \u001b[38;2;114;156;31m━━━━━━━━━━━━━━━━━━━━━━━━━━━━━━━━━━━━━━━\u001b[0m \u001b[32m63.2/63.2 kB\u001b[0m \u001b[31m501.2 kB/s\u001b[0m eta \u001b[36m0:00:00\u001b[0m1m653.6 kB/s\u001b[0m eta \u001b[36m0:00:01\u001b[0m\n",
      "\u001b[?25hCollecting fonttools>=4.22.0\n",
      "  Downloading fonttools-4.38.0-py3-none-any.whl (965 kB)\n",
      "\u001b[2K     \u001b[38;2;114;156;31m━━━━━━━━━━━━━━━━━━━━━━━━━━━━━━━━━━━━━\u001b[0m \u001b[32m965.4/965.4 kB\u001b[0m \u001b[31m993.6 kB/s\u001b[0m eta \u001b[36m0:00:00\u001b[0mm eta \u001b[36m0:00:01\u001b[0m[36m0:00:01\u001b[0m\n",
      "\u001b[?25hRequirement already satisfied: packaging>=20.0 in /Users/rickyyoung/opt/anaconda3/envs/qml/lib/python3.9/site-packages (from matplotlib>=1.4.0->scikit-plot) (21.3)\n",
      "Collecting pillow>=6.2.0\n",
      "  Downloading Pillow-9.3.0-cp39-cp39-macosx_11_0_arm64.whl (2.9 MB)\n",
      "\u001b[2K     \u001b[38;2;114;156;31m━━━━━━━━━━━━━━━━━━━━━━━━━━━━━━━━━━━━━━━━\u001b[0m \u001b[32m2.9/2.9 MB\u001b[0m \u001b[31m693.6 kB/s\u001b[0m eta \u001b[36m0:00:00\u001b[0mm eta \u001b[36m0:00:01\u001b[0m0:01\u001b[0m:01\u001b[0m\n",
      "\u001b[?25hRequirement already satisfied: python-dateutil>=2.7 in /Users/rickyyoung/opt/anaconda3/envs/qml/lib/python3.9/site-packages (from matplotlib>=1.4.0->scikit-plot) (2.8.2)\n",
      "Collecting cycler>=0.10\n",
      "  Downloading cycler-0.11.0-py3-none-any.whl (6.4 kB)\n",
      "Requirement already satisfied: pyparsing>=2.2.1 in /Users/rickyyoung/opt/anaconda3/envs/qml/lib/python3.9/site-packages (from matplotlib>=1.4.0->scikit-plot) (3.0.9)\n",
      "Requirement already satisfied: numpy>=1.19 in /Users/rickyyoung/opt/anaconda3/envs/qml/lib/python3.9/site-packages (from matplotlib>=1.4.0->scikit-plot) (1.23.5)\n",
      "Collecting threadpoolctl>=2.0.0\n",
      "  Downloading threadpoolctl-3.1.0-py3-none-any.whl (14 kB)\n",
      "Requirement already satisfied: six>=1.5 in /Users/rickyyoung/opt/anaconda3/envs/qml/lib/python3.9/site-packages (from python-dateutil>=2.7->matplotlib>=1.4.0->scikit-plot) (1.16.0)\n",
      "Installing collected packages: threadpoolctl, pillow, kiwisolver, joblib, fonttools, cycler, contourpy, scikit-learn, matplotlib, scikit-plot\n",
      "Successfully installed contourpy-1.0.6 cycler-0.11.0 fonttools-4.38.0 joblib-1.2.0 kiwisolver-1.4.4 matplotlib-3.6.2 pillow-9.3.0 scikit-learn-1.1.3 scikit-plot-0.3.7 threadpoolctl-3.1.0\n",
      "Note: you may need to restart the kernel to use updated packages.\n"
     ]
    }
   ],
   "source": [
    "%pip install tensorflow\n",
    "%pip install tensorboard\n",
    "%pip install scikit-plot"
   ]
  },
  {
   "cell_type": "code",
   "execution_count": 24,
   "id": "00d3280d-0314-42ca-86b7-17a04a29c5cc",
   "metadata": {},
   "outputs": [],
   "source": [
    "import os\n",
    "\n",
    "import datetime\n",
    "import matplotlib.pyplot as plt\n",
    "import numpy as np\n",
    "import pennylane as qml\n",
    "# import qbraid\n",
    "from scikitplot.metrics import plot_confusion_matrix\n",
    "import tensorflow as tf\n",
    "\n",
    "\n",
    "\n",
    "%matplotlib inline\n",
    "# CONSTANTS\n",
    "NUM_EXAMPLES=500\n",
    "os.environ['TENSORBOARD_BINARY'] = '/home/jovyan/.qbraid/environments/qbraid_sdk_9j9sjy/pyenv/bin/tensorboard'\n",
    "(x_train, y_train), (x_test, y_test) = tf.keras.datasets.mnist.load_data()"
   ]
  },
  {
   "cell_type": "markdown",
   "id": "9eed189f-4ba5-4143-b395-1d7c650e0cb5",
   "metadata": {},
   "source": [
    "# MNIST\n",
    "The MNIST (Modified National Institute of Standards and Technology) database contains 70,000 28 x 28 images of handwritten digits from 0-9 and is seminal to machine learning. The MNIST handwritten dataset is the “Hello World” implementation for machine learning, and the dataset is used as a worldwide machine learning benchmark. \n"
   ]
  },
  {
   "cell_type": "markdown",
   "id": "d9a33af1-372b-46cc-aee2-e43685d30e96",
   "metadata": {},
   "source": [
    "## Starting off with a classical implementation\n",
    "We will first load the data and apply a classical CNN (Convolutional Neural Network) to understand the mechanics of image classification."
   ]
  },
  {
   "cell_type": "markdown",
   "id": "401bb9cd-a212-4b2c-91b7-7a692f0e02f1",
   "metadata": {},
   "source": [
    "### Loading the data\n",
    "We load the data from tensorflow, a machine learning package developed by Google."
   ]
  },
  {
   "cell_type": "code",
   "execution_count": 25,
   "id": "6ad42372-8ae2-4c5d-b068-f9ea0d63bf9a",
   "metadata": {},
   "outputs": [
    {
     "name": "stdout",
     "output_type": "stream",
     "text": [
      "Number of original training examples: 60000\n",
      "Number of original test examples: 10000\n"
     ]
    }
   ],
   "source": [
    "# Normalize the images from [0,255] to the [0.0,1.0] range.\n",
    "x_train, x_test = x_train[..., np.newaxis]/255.0, x_test[..., np.newaxis]/255.0\n",
    "\n",
    "print(\"Number of original training examples:\", len(x_train))\n",
    "print(\"Number of original test examples:\", len(x_test))"
   ]
  },
  {
   "cell_type": "markdown",
   "id": "3f320bfe-4090-435c-95d4-ec23dfd9d3a9",
   "metadata": {},
   "source": [
    "We one hot encode the categories into ten classes."
   ]
  },
  {
   "cell_type": "code",
   "execution_count": 26,
   "id": "c2036167-f139-41e1-99d7-8ecb2e98bc2d",
   "metadata": {},
   "outputs": [],
   "source": [
    "y_train_onehot = tf.one_hot(y_train,10)\n",
    "y_test_onehot = tf.one_hot(y_test,10)"
   ]
  },
  {
   "cell_type": "markdown",
   "id": "adc61848-7164-49e0-959e-a3b73019d1d1",
   "metadata": {},
   "source": [
    "Let's plot the images to see what we're going to be classifying and embedding into quantum circuits."
   ]
  },
  {
   "cell_type": "code",
   "execution_count": 27,
   "id": "38bf0a0c-bb0a-485d-a54c-d8c1f9016542",
   "metadata": {},
   "outputs": [
    {
     "data": {
      "image/png": "[encoded data removed]",
      "text/plain": [
       "<Figure size 1000x1000 with 25 Axes>"
      ]
     },
     "metadata": {},
     "output_type": "display_data"
    }
   ],
   "source": [
    "plt.figure(figsize=(10,10))\n",
    "for i in range(25):\n",
    "    plt.subplot(5,5,i+1)\n",
    "    plt.xticks([])\n",
    "    plt.yticks([])\n",
    "    plt.grid(False)\n",
    "    plt.imshow(x_train[i])\n",
    "    plt.xlabel(y_train[i])\n",
    "plt.show()"
   ]
  },
  {
   "cell_type": "markdown",
   "id": "b41eeb71-4de8-4b07-8de6-4f228e34c79f",
   "metadata": {},
   "source": [
    "### Run a CNN (convolutional neural network)\n",
    "In the following cells we run a simple CNN which has 2 convolutional layers and will classify, on average, to 98%. A convolutional layer is an integral transform which detects certain features using a filter to pass over the image.\n",
    "<img src=\"./_images/convolutionalfilter.gif\">\n",
    "\n",
    "\n",
    "You can learn more about classical CNNs here."
   ]
  },
  {
   "cell_type": "markdown",
   "id": "27619c79-1975-45cb-a80d-a1cb1c8481b7",
   "metadata": {},
   "source": [
    "To gather data on our model per epoch, we will include tensorboard and the model checkpoint callback."
   ]
  },
  {
   "cell_type": "code",
   "execution_count": 28,
   "id": "03cc8132-c808-4f07-8089-3bca6de73604",
   "metadata": {},
   "outputs": [
    {
     "name": "stdout",
     "output_type": "stream",
     "text": [
      "The tensorboard extension is already loaded. To reload it, use:\n",
      "  %reload_ext tensorboard\n"
     ]
    },
    {
     "name": "stderr",
     "output_type": "stream",
     "text": [
      "2022-11-28 19:13:42.331449: I tensorflow/core/profiler/lib/profiler_session.cc:101] Profiler session initializing.\n",
      "2022-11-28 19:13:42.332099: I tensorflow/core/profiler/lib/profiler_session.cc:116] Profiler session started.\n",
      "2022-11-28 19:13:42.346084: I tensorflow/core/profiler/lib/profiler_session.cc:128] Profiler session tear down.\n"
     ]
    }
   ],
   "source": [
    "# Tensorboard callback\n",
    "%load_ext tensorboard\n",
    "\n",
    "# Specify Folders\n",
    "current_time = str(datetime.datetime.now().strftime(\"%Y%m%d-%H%M%S\"))\n",
    "train_log_dir = 'logs/tensorboard/' + current_time\n",
    "test_log_dir = 'logs/tensorboard/test/' + current_time\n",
    "path_for_checkpoint_callback = 'logs/summary/'+current_time\n",
    "\n",
    "# Create callback\n",
    "tensorboard_callback = tf.keras.callbacks.TensorBoard(\n",
    "                log_dir=train_log_dir, histogram_freq=1, profile_batch=3\n",
    "            )\n",
    "\n",
    "# Model Checkpoint callback\n",
    "model_ckpt =  tf.keras.callbacks.ModelCheckpoint(\n",
    "                path_for_checkpoint_callback, save_weights_only=True\n",
    "            )"
   ]
  },
  {
   "cell_type": "markdown",
   "id": "c971f133-06e2-45b9-9a8c-1b45d5513d9d",
   "metadata": {},
   "source": [
    "The classical model is a sequential CNN for 10 class multiclassification. The model contains  1,199,882 trainable parameters."
   ]
  },
  {
   "cell_type": "code",
   "execution_count": 8,
   "id": "28b37b50-0f22-48d7-bbb9-c6ed15cdc39e",
   "metadata": {},
   "outputs": [
    {
     "name": "stdout",
     "output_type": "stream",
     "text": [
      "Model: \"sequential\"\n",
      "_________________________________________________________________\n",
      " Layer (type)                Output Shape              Param #   \n",
      "=================================================================\n",
      " conv2d (Conv2D)             (None, 26, 26, 32)        320       \n",
      "                                                                 \n",
      " conv2d_1 (Conv2D)           (None, 24, 24, 64)        18496     \n",
      "                                                                 \n",
      " max_pooling2d (MaxPooling2D  (None, 12, 12, 64)       0         \n",
      " )                                                               \n",
      "                                                                 \n",
      " dropout (Dropout)           (None, 12, 12, 64)        0         \n",
      "                                                                 \n",
      " flatten (Flatten)           (None, 9216)              0         \n",
      "                                                                 \n",
      " dense (Dense)               (None, 128)               1179776   \n",
      "                                                                 \n",
      " dropout_1 (Dropout)         (None, 128)               0         \n",
      "                                                                 \n",
      " dense_1 (Dense)             (None, 10)                1290      \n",
      "                                                                 \n",
      "=================================================================\n",
      "Total params: 1,199,882\n",
      "Trainable params: 1,199,882\n",
      "Non-trainable params: 0\n",
      "_________________________________________________________________\n"
     ]
    }
   ],
   "source": [
    "def create_classical_model():\n",
    "    # A simple model based off LeNet from https://keras.io/examples/mnist_cnn/\n",
    "    model = tf.keras.Sequential()\n",
    "    model.add(tf.keras.layers.Conv2D(32, [3, 3], activation='relu', input_shape=(28,28,1)))\n",
    "    model.add(tf.keras.layers.Conv2D(64, [3, 3], activation='relu'))\n",
    "    model.add(tf.keras.layers.MaxPooling2D(pool_size=(2, 2)))\n",
    "    model.add(tf.keras.layers.Dropout(0.25))\n",
    "    model.add(tf.keras.layers.Flatten())\n",
    "    model.add(tf.keras.layers.Dense(128, activation='relu'))\n",
    "    model.add(tf.keras.layers.Dropout(0.5))\n",
    "    model.add(tf.keras.layers.Dense(10, activation='softmax'))\n",
    "    return model\n",
    "\n",
    "\n",
    "cmodel = create_classical_model()\n",
    "cmodel.compile(loss=tf.keras.losses.CategoricalCrossentropy(),\n",
    "              optimizer=tf.keras.optimizers.Adam(0.002),\n",
    "               metrics=[tf.keras.metrics.CategoricalAccuracy()])\n",
    "\n",
    "cmodel.summary()"
   ]
  },
  {
   "cell_type": "code",
   "execution_count": 9,
   "id": "4c617d1a-0e8f-4c14-90a0-c4cb3297126c",
   "metadata": {},
   "outputs": [
    {
     "name": "stdout",
     "output_type": "stream",
     "text": [
      "Epoch 1/10\n"
     ]
    },
    {
     "name": "stderr",
     "output_type": "stream",
     "text": [
      "2022-11-28 17:49:30.053169: W tensorflow/core/platform/profile_utils/cpu_utils.cc:128] Failed to get CPU frequency: 0 Hz\n",
      "2022-11-28 17:49:30.826369: I tensorflow/core/grappler/optimizers/custom_graph_optimizer_registry.cc:114] Plugin optimizer for device_type GPU is enabled.\n"
     ]
    },
    {
     "name": "stdout",
     "output_type": "stream",
     "text": [
      "  3/469 [..............................] - ETA: 1:10 - loss: 2.0496 - categorical_accuracy: 0.2865"
     ]
    },
    {
     "name": "stderr",
     "output_type": "stream",
     "text": [
      "2022-11-28 17:49:34.614345: I tensorflow/core/profiler/lib/profiler_session.cc:101] Profiler session initializing.\n",
      "2022-11-28 17:49:34.614444: I tensorflow/core/profiler/lib/profiler_session.cc:116] Profiler session started.\n",
      "2022-11-28 17:49:34.671368: I tensorflow/core/profiler/lib/profiler_session.cc:67] Profiler session collecting data.\n",
      "2022-11-28 17:49:34.693692: I tensorflow/core/profiler/lib/profiler_session.cc:128] Profiler session tear down.\n",
      "2022-11-28 17:49:34.756546: I tensorflow/core/profiler/rpc/client/save_profile.cc:136] Creating directory: logs/tensorboard/20221128-174928/plugins/profile/2022_11_28_17_49_34\n",
      "\n",
      "2022-11-28 17:49:34.758460: I tensorflow/core/profiler/rpc/client/save_profile.cc:142] Dumped gzipped tool data for trace.json.gz to logs/tensorboard/20221128-174928/plugins/profile/2022_11_28_17_49_34/RickynoMacBook-Pro.local.trace.json.gz\n",
      "2022-11-28 17:49:34.776902: I tensorflow/core/profiler/rpc/client/save_profile.cc:136] Creating directory: logs/tensorboard/20221128-174928/plugins/profile/2022_11_28_17_49_34\n",
      "\n",
      "2022-11-28 17:49:34.777159: I tensorflow/core/profiler/rpc/client/save_profile.cc:142] Dumped gzipped tool data for memory_profile.json.gz to logs/tensorboard/20221128-174928/plugins/profile/2022_11_28_17_49_34/RickynoMacBook-Pro.local.memory_profile.json.gz\n",
      "2022-11-28 17:49:34.777853: I tensorflow/core/profiler/rpc/client/capture_profile.cc:251] Creating directory: logs/tensorboard/20221128-174928/plugins/profile/2022_11_28_17_49_34\n",
      "Dumped tool data for xplane.pb to logs/tensorboard/20221128-174928/plugins/profile/2022_11_28_17_49_34/RickynoMacBook-Pro.local.xplane.pb\n",
      "Dumped tool data for overview_page.pb to logs/tensorboard/20221128-174928/plugins/profile/2022_11_28_17_49_34/RickynoMacBook-Pro.local.overview_page.pb\n",
      "Dumped tool data for input_pipeline.pb to logs/tensorboard/20221128-174928/plugins/profile/2022_11_28_17_49_34/RickynoMacBook-Pro.local.input_pipeline.pb\n",
      "Dumped tool data for tensorflow_stats.pb to logs/tensorboard/20221128-174928/plugins/profile/2022_11_28_17_49_34/RickynoMacBook-Pro.local.tensorflow_stats.pb\n",
      "Dumped tool data for kernel_stats.pb to logs/tensorboard/20221128-174928/plugins/profile/2022_11_28_17_49_34/RickynoMacBook-Pro.local.kernel_stats.pb\n",
      "\n"
     ]
    },
    {
     "name": "stdout",
     "output_type": "stream",
     "text": [
      "469/469 [==============================] - ETA: 0s - loss: 0.1888 - categorical_accuracy: 0.9425"
     ]
    },
    {
     "name": "stderr",
     "output_type": "stream",
     "text": [
      "2022-11-28 17:49:47.419537: I tensorflow/core/grappler/optimizers/custom_graph_optimizer_registry.cc:114] Plugin optimizer for device_type GPU is enabled.\n"
     ]
    },
    {
     "name": "stdout",
     "output_type": "stream",
     "text": [
      "469/469 [==============================] - 18s 29ms/step - loss: 0.1888 - categorical_accuracy: 0.9425 - val_loss: 0.0427 - val_categorical_accuracy: 0.9850\n",
      "Epoch 2/10\n",
      "257/469 [===============>..............] - ETA: 4s - loss: 0.0747 - categorical_accuracy: 0.9784"
     ]
    },
    {
     "ename": "KeyboardInterrupt",
     "evalue": "",
     "output_type": "error",
     "traceback": [
      "\u001b[0;31m---------------------------------------------------------------------------\u001b[0m",
      "\u001b[0;31mKeyboardInterrupt\u001b[0m                         Traceback (most recent call last)",
      "Cell \u001b[0;32mIn[9], line 1\u001b[0m\n\u001b[0;32m----> 1\u001b[0m \u001b[43mcmodel\u001b[49m\u001b[38;5;241;43m.\u001b[39;49m\u001b[43mfit\u001b[49m\u001b[43m(\u001b[49m\u001b[43mx_train\u001b[49m\u001b[43m,\u001b[49m\n\u001b[1;32m      2\u001b[0m \u001b[43m          \u001b[49m\u001b[43my_train_onehot\u001b[49m\u001b[43m,\u001b[49m\n\u001b[1;32m      3\u001b[0m \u001b[43m          \u001b[49m\u001b[43mbatch_size\u001b[49m\u001b[38;5;241;43m=\u001b[39;49m\u001b[38;5;241;43m128\u001b[39;49m\u001b[43m,\u001b[49m\n\u001b[1;32m      4\u001b[0m \u001b[43m          \u001b[49m\u001b[43mepochs\u001b[49m\u001b[38;5;241;43m=\u001b[39;49m\u001b[38;5;241;43m10\u001b[39;49m\u001b[43m,\u001b[49m\n\u001b[1;32m      5\u001b[0m \u001b[43m          \u001b[49m\u001b[43mverbose\u001b[49m\u001b[38;5;241;43m=\u001b[39;49m\u001b[38;5;241;43m1\u001b[39;49m\u001b[43m,\u001b[49m\n\u001b[1;32m      6\u001b[0m \u001b[43m          \u001b[49m\u001b[43mvalidation_data\u001b[49m\u001b[38;5;241;43m=\u001b[39;49m\u001b[43m(\u001b[49m\u001b[43mx_test\u001b[49m\u001b[43m[\u001b[49m\u001b[43m:\u001b[49m\u001b[38;5;241;43m1000\u001b[39;49m\u001b[43m]\u001b[49m\u001b[43m,\u001b[49m\u001b[43m \u001b[49m\u001b[43my_test_onehot\u001b[49m\u001b[43m[\u001b[49m\u001b[43m:\u001b[49m\u001b[38;5;241;43m1000\u001b[39;49m\u001b[43m]\u001b[49m\u001b[43m)\u001b[49m\u001b[43m,\u001b[49m\n\u001b[1;32m      7\u001b[0m \u001b[43m          \u001b[49m\u001b[43mcallbacks\u001b[49m\u001b[38;5;241;43m=\u001b[39;49m\u001b[43m[\u001b[49m\u001b[43mtensorboard_callback\u001b[49m\u001b[43m,\u001b[49m\u001b[43mmodel_ckpt\u001b[49m\u001b[43m]\u001b[49m\u001b[43m)\u001b[49m\n\u001b[1;32m      9\u001b[0m cnn_results \u001b[38;5;241m=\u001b[39m cmodel\u001b[38;5;241m.\u001b[39mevaluate(x_test, y_test_onehot)\n",
      "File \u001b[0;32m~/opt/anaconda3/envs/qml/lib/python3.9/site-packages/keras/utils/traceback_utils.py:65\u001b[0m, in \u001b[0;36mfilter_traceback.<locals>.error_handler\u001b[0;34m(*args, **kwargs)\u001b[0m\n\u001b[1;32m     63\u001b[0m filtered_tb \u001b[38;5;241m=\u001b[39m \u001b[38;5;28;01mNone\u001b[39;00m\n\u001b[1;32m     64\u001b[0m \u001b[38;5;28;01mtry\u001b[39;00m:\n\u001b[0;32m---> 65\u001b[0m     \u001b[38;5;28;01mreturn\u001b[39;00m \u001b[43mfn\u001b[49m\u001b[43m(\u001b[49m\u001b[38;5;241;43m*\u001b[39;49m\u001b[43margs\u001b[49m\u001b[43m,\u001b[49m\u001b[43m \u001b[49m\u001b[38;5;241;43m*\u001b[39;49m\u001b[38;5;241;43m*\u001b[39;49m\u001b[43mkwargs\u001b[49m\u001b[43m)\u001b[49m\n\u001b[1;32m     66\u001b[0m \u001b[38;5;28;01mexcept\u001b[39;00m \u001b[38;5;167;01mException\u001b[39;00m \u001b[38;5;28;01mas\u001b[39;00m e:\n\u001b[1;32m     67\u001b[0m     filtered_tb \u001b[38;5;241m=\u001b[39m _process_traceback_frames(e\u001b[38;5;241m.\u001b[39m__traceback__)\n",
      "File \u001b[0;32m~/opt/anaconda3/envs/qml/lib/python3.9/site-packages/keras/engine/training.py:1570\u001b[0m, in \u001b[0;36mModel.fit\u001b[0;34m(self, x, y, batch_size, epochs, verbose, callbacks, validation_split, validation_data, shuffle, class_weight, sample_weight, initial_epoch, steps_per_epoch, validation_steps, validation_batch_size, validation_freq, max_queue_size, workers, use_multiprocessing)\u001b[0m\n\u001b[1;32m   1568\u001b[0m logs \u001b[38;5;241m=\u001b[39m tmp_logs\n\u001b[1;32m   1569\u001b[0m end_step \u001b[38;5;241m=\u001b[39m step \u001b[38;5;241m+\u001b[39m data_handler\u001b[38;5;241m.\u001b[39mstep_increment\n\u001b[0;32m-> 1570\u001b[0m \u001b[43mcallbacks\u001b[49m\u001b[38;5;241;43m.\u001b[39;49m\u001b[43mon_train_batch_end\u001b[49m\u001b[43m(\u001b[49m\u001b[43mend_step\u001b[49m\u001b[43m,\u001b[49m\u001b[43m \u001b[49m\u001b[43mlogs\u001b[49m\u001b[43m)\u001b[49m\n\u001b[1;32m   1571\u001b[0m \u001b[38;5;28;01mif\u001b[39;00m \u001b[38;5;28mself\u001b[39m\u001b[38;5;241m.\u001b[39mstop_training:\n\u001b[1;32m   1572\u001b[0m     \u001b[38;5;28;01mbreak\u001b[39;00m\n",
      "File \u001b[0;32m~/opt/anaconda3/envs/qml/lib/python3.9/site-packages/keras/callbacks.py:470\u001b[0m, in \u001b[0;36mCallbackList.on_train_batch_end\u001b[0;34m(self, batch, logs)\u001b[0m\n\u001b[1;32m    463\u001b[0m \u001b[38;5;124;03m\"\"\"Calls the `on_train_batch_end` methods of its callbacks.\u001b[39;00m\n\u001b[1;32m    464\u001b[0m \n\u001b[1;32m    465\u001b[0m \u001b[38;5;124;03mArgs:\u001b[39;00m\n\u001b[1;32m    466\u001b[0m \u001b[38;5;124;03m    batch: Integer, index of batch within the current epoch.\u001b[39;00m\n\u001b[1;32m    467\u001b[0m \u001b[38;5;124;03m    logs: Dict. Aggregated metric results up until this batch.\u001b[39;00m\n\u001b[1;32m    468\u001b[0m \u001b[38;5;124;03m\"\"\"\u001b[39;00m\n\u001b[1;32m    469\u001b[0m \u001b[38;5;28;01mif\u001b[39;00m \u001b[38;5;28mself\u001b[39m\u001b[38;5;241m.\u001b[39m_should_call_train_batch_hooks:\n\u001b[0;32m--> 470\u001b[0m     \u001b[38;5;28;43mself\u001b[39;49m\u001b[38;5;241;43m.\u001b[39;49m\u001b[43m_call_batch_hook\u001b[49m\u001b[43m(\u001b[49m\u001b[43mModeKeys\u001b[49m\u001b[38;5;241;43m.\u001b[39;49m\u001b[43mTRAIN\u001b[49m\u001b[43m,\u001b[49m\u001b[43m \u001b[49m\u001b[38;5;124;43m\"\u001b[39;49m\u001b[38;5;124;43mend\u001b[39;49m\u001b[38;5;124;43m\"\u001b[39;49m\u001b[43m,\u001b[49m\u001b[43m \u001b[49m\u001b[43mbatch\u001b[49m\u001b[43m,\u001b[49m\u001b[43m \u001b[49m\u001b[43mlogs\u001b[49m\u001b[38;5;241;43m=\u001b[39;49m\u001b[43mlogs\u001b[49m\u001b[43m)\u001b[49m\n",
      "File \u001b[0;32m~/opt/anaconda3/envs/qml/lib/python3.9/site-packages/keras/callbacks.py:317\u001b[0m, in \u001b[0;36mCallbackList._call_batch_hook\u001b[0;34m(self, mode, hook, batch, logs)\u001b[0m\n\u001b[1;32m    315\u001b[0m     \u001b[38;5;28mself\u001b[39m\u001b[38;5;241m.\u001b[39m_call_batch_begin_hook(mode, batch, logs)\n\u001b[1;32m    316\u001b[0m \u001b[38;5;28;01melif\u001b[39;00m hook \u001b[38;5;241m==\u001b[39m \u001b[38;5;124m\"\u001b[39m\u001b[38;5;124mend\u001b[39m\u001b[38;5;124m\"\u001b[39m:\n\u001b[0;32m--> 317\u001b[0m     \u001b[38;5;28;43mself\u001b[39;49m\u001b[38;5;241;43m.\u001b[39;49m\u001b[43m_call_batch_end_hook\u001b[49m\u001b[43m(\u001b[49m\u001b[43mmode\u001b[49m\u001b[43m,\u001b[49m\u001b[43m \u001b[49m\u001b[43mbatch\u001b[49m\u001b[43m,\u001b[49m\u001b[43m \u001b[49m\u001b[43mlogs\u001b[49m\u001b[43m)\u001b[49m\n\u001b[1;32m    318\u001b[0m \u001b[38;5;28;01melse\u001b[39;00m:\n\u001b[1;32m    319\u001b[0m     \u001b[38;5;28;01mraise\u001b[39;00m \u001b[38;5;167;01mValueError\u001b[39;00m(\n\u001b[1;32m    320\u001b[0m         \u001b[38;5;124mf\u001b[39m\u001b[38;5;124m\"\u001b[39m\u001b[38;5;124mUnrecognized hook: \u001b[39m\u001b[38;5;132;01m{\u001b[39;00mhook\u001b[38;5;132;01m}\u001b[39;00m\u001b[38;5;124m. \u001b[39m\u001b[38;5;124m\"\u001b[39m\n\u001b[1;32m    321\u001b[0m         \u001b[38;5;124m'\u001b[39m\u001b[38;5;124mExpected values are [\u001b[39m\u001b[38;5;124m\"\u001b[39m\u001b[38;5;124mbegin\u001b[39m\u001b[38;5;124m\"\u001b[39m\u001b[38;5;124m, \u001b[39m\u001b[38;5;124m\"\u001b[39m\u001b[38;5;124mend\u001b[39m\u001b[38;5;124m\"\u001b[39m\u001b[38;5;124m]\u001b[39m\u001b[38;5;124m'\u001b[39m\n\u001b[1;32m    322\u001b[0m     )\n",
      "File \u001b[0;32m~/opt/anaconda3/envs/qml/lib/python3.9/site-packages/keras/callbacks.py:340\u001b[0m, in \u001b[0;36mCallbackList._call_batch_end_hook\u001b[0;34m(self, mode, batch, logs)\u001b[0m\n\u001b[1;32m    337\u001b[0m     batch_time \u001b[38;5;241m=\u001b[39m time\u001b[38;5;241m.\u001b[39mtime() \u001b[38;5;241m-\u001b[39m \u001b[38;5;28mself\u001b[39m\u001b[38;5;241m.\u001b[39m_batch_start_time\n\u001b[1;32m    338\u001b[0m     \u001b[38;5;28mself\u001b[39m\u001b[38;5;241m.\u001b[39m_batch_times\u001b[38;5;241m.\u001b[39mappend(batch_time)\n\u001b[0;32m--> 340\u001b[0m \u001b[38;5;28;43mself\u001b[39;49m\u001b[38;5;241;43m.\u001b[39;49m\u001b[43m_call_batch_hook_helper\u001b[49m\u001b[43m(\u001b[49m\u001b[43mhook_name\u001b[49m\u001b[43m,\u001b[49m\u001b[43m \u001b[49m\u001b[43mbatch\u001b[49m\u001b[43m,\u001b[49m\u001b[43m \u001b[49m\u001b[43mlogs\u001b[49m\u001b[43m)\u001b[49m\n\u001b[1;32m    342\u001b[0m \u001b[38;5;28;01mif\u001b[39;00m \u001b[38;5;28mlen\u001b[39m(\u001b[38;5;28mself\u001b[39m\u001b[38;5;241m.\u001b[39m_batch_times) \u001b[38;5;241m>\u001b[39m\u001b[38;5;241m=\u001b[39m \u001b[38;5;28mself\u001b[39m\u001b[38;5;241m.\u001b[39m_num_batches_for_timing_check:\n\u001b[1;32m    343\u001b[0m     end_hook_name \u001b[38;5;241m=\u001b[39m hook_name\n",
      "File \u001b[0;32m~/opt/anaconda3/envs/qml/lib/python3.9/site-packages/keras/callbacks.py:388\u001b[0m, in \u001b[0;36mCallbackList._call_batch_hook_helper\u001b[0;34m(self, hook_name, batch, logs)\u001b[0m\n\u001b[1;32m    386\u001b[0m \u001b[38;5;28;01mfor\u001b[39;00m callback \u001b[38;5;129;01min\u001b[39;00m \u001b[38;5;28mself\u001b[39m\u001b[38;5;241m.\u001b[39mcallbacks:\n\u001b[1;32m    387\u001b[0m     hook \u001b[38;5;241m=\u001b[39m \u001b[38;5;28mgetattr\u001b[39m(callback, hook_name)\n\u001b[0;32m--> 388\u001b[0m     \u001b[43mhook\u001b[49m\u001b[43m(\u001b[49m\u001b[43mbatch\u001b[49m\u001b[43m,\u001b[49m\u001b[43m \u001b[49m\u001b[43mlogs\u001b[49m\u001b[43m)\u001b[49m\n\u001b[1;32m    390\u001b[0m \u001b[38;5;28;01mif\u001b[39;00m \u001b[38;5;28mself\u001b[39m\u001b[38;5;241m.\u001b[39m_check_timing:\n\u001b[1;32m    391\u001b[0m     \u001b[38;5;28;01mif\u001b[39;00m hook_name \u001b[38;5;129;01mnot\u001b[39;00m \u001b[38;5;129;01min\u001b[39;00m \u001b[38;5;28mself\u001b[39m\u001b[38;5;241m.\u001b[39m_hook_times:\n",
      "File \u001b[0;32m~/opt/anaconda3/envs/qml/lib/python3.9/site-packages/keras/callbacks.py:1081\u001b[0m, in \u001b[0;36mProgbarLogger.on_train_batch_end\u001b[0;34m(self, batch, logs)\u001b[0m\n\u001b[1;32m   1080\u001b[0m \u001b[38;5;28;01mdef\u001b[39;00m \u001b[38;5;21mon_train_batch_end\u001b[39m(\u001b[38;5;28mself\u001b[39m, batch, logs\u001b[38;5;241m=\u001b[39m\u001b[38;5;28;01mNone\u001b[39;00m):\n\u001b[0;32m-> 1081\u001b[0m     \u001b[38;5;28;43mself\u001b[39;49m\u001b[38;5;241;43m.\u001b[39;49m\u001b[43m_batch_update_progbar\u001b[49m\u001b[43m(\u001b[49m\u001b[43mbatch\u001b[49m\u001b[43m,\u001b[49m\u001b[43m \u001b[49m\u001b[43mlogs\u001b[49m\u001b[43m)\u001b[49m\n",
      "File \u001b[0;32m~/opt/anaconda3/envs/qml/lib/python3.9/site-packages/keras/callbacks.py:1157\u001b[0m, in \u001b[0;36mProgbarLogger._batch_update_progbar\u001b[0;34m(self, batch, logs)\u001b[0m\n\u001b[1;32m   1153\u001b[0m     \u001b[38;5;28mself\u001b[39m\u001b[38;5;241m.\u001b[39mseen \u001b[38;5;241m+\u001b[39m\u001b[38;5;241m=\u001b[39m add_seen\n\u001b[1;32m   1155\u001b[0m \u001b[38;5;28;01mif\u001b[39;00m \u001b[38;5;28mself\u001b[39m\u001b[38;5;241m.\u001b[39mverbose \u001b[38;5;241m==\u001b[39m \u001b[38;5;241m1\u001b[39m:\n\u001b[1;32m   1156\u001b[0m     \u001b[38;5;66;03m# Only block async when verbose = 1.\u001b[39;00m\n\u001b[0;32m-> 1157\u001b[0m     logs \u001b[38;5;241m=\u001b[39m \u001b[43mtf_utils\u001b[49m\u001b[38;5;241;43m.\u001b[39;49m\u001b[43msync_to_numpy_or_python_type\u001b[49m\u001b[43m(\u001b[49m\u001b[43mlogs\u001b[49m\u001b[43m)\u001b[49m\n\u001b[1;32m   1158\u001b[0m     \u001b[38;5;28mself\u001b[39m\u001b[38;5;241m.\u001b[39mprogbar\u001b[38;5;241m.\u001b[39mupdate(\u001b[38;5;28mself\u001b[39m\u001b[38;5;241m.\u001b[39mseen, \u001b[38;5;28mlist\u001b[39m(logs\u001b[38;5;241m.\u001b[39mitems()), finalize\u001b[38;5;241m=\u001b[39m\u001b[38;5;28;01mFalse\u001b[39;00m)\n",
      "File \u001b[0;32m~/opt/anaconda3/envs/qml/lib/python3.9/site-packages/keras/utils/tf_utils.py:635\u001b[0m, in \u001b[0;36msync_to_numpy_or_python_type\u001b[0;34m(tensors)\u001b[0m\n\u001b[1;32m    632\u001b[0m         \u001b[38;5;28;01mreturn\u001b[39;00m t\n\u001b[1;32m    633\u001b[0m     \u001b[38;5;28;01mreturn\u001b[39;00m t\u001b[38;5;241m.\u001b[39mitem() \u001b[38;5;28;01mif\u001b[39;00m np\u001b[38;5;241m.\u001b[39mndim(t) \u001b[38;5;241m==\u001b[39m \u001b[38;5;241m0\u001b[39m \u001b[38;5;28;01melse\u001b[39;00m t\n\u001b[0;32m--> 635\u001b[0m \u001b[38;5;28;01mreturn\u001b[39;00m \u001b[43mtf\u001b[49m\u001b[38;5;241;43m.\u001b[39;49m\u001b[43mnest\u001b[49m\u001b[38;5;241;43m.\u001b[39;49m\u001b[43mmap_structure\u001b[49m\u001b[43m(\u001b[49m\u001b[43m_to_single_numpy_or_python_type\u001b[49m\u001b[43m,\u001b[49m\u001b[43m \u001b[49m\u001b[43mtensors\u001b[49m\u001b[43m)\u001b[49m\n",
      "File \u001b[0;32m~/opt/anaconda3/envs/qml/lib/python3.9/site-packages/tensorflow/python/util/nest.py:917\u001b[0m, in \u001b[0;36mmap_structure\u001b[0;34m(func, *structure, **kwargs)\u001b[0m\n\u001b[1;32m    913\u001b[0m flat_structure \u001b[38;5;241m=\u001b[39m (flatten(s, expand_composites) \u001b[38;5;28;01mfor\u001b[39;00m s \u001b[38;5;129;01min\u001b[39;00m structure)\n\u001b[1;32m    914\u001b[0m entries \u001b[38;5;241m=\u001b[39m \u001b[38;5;28mzip\u001b[39m(\u001b[38;5;241m*\u001b[39mflat_structure)\n\u001b[1;32m    916\u001b[0m \u001b[38;5;28;01mreturn\u001b[39;00m pack_sequence_as(\n\u001b[0;32m--> 917\u001b[0m     structure[\u001b[38;5;241m0\u001b[39m], [func(\u001b[38;5;241m*\u001b[39mx) \u001b[38;5;28;01mfor\u001b[39;00m x \u001b[38;5;129;01min\u001b[39;00m entries],\n\u001b[1;32m    918\u001b[0m     expand_composites\u001b[38;5;241m=\u001b[39mexpand_composites)\n",
      "File \u001b[0;32m~/opt/anaconda3/envs/qml/lib/python3.9/site-packages/tensorflow/python/util/nest.py:917\u001b[0m, in \u001b[0;36m<listcomp>\u001b[0;34m(.0)\u001b[0m\n\u001b[1;32m    913\u001b[0m flat_structure \u001b[38;5;241m=\u001b[39m (flatten(s, expand_composites) \u001b[38;5;28;01mfor\u001b[39;00m s \u001b[38;5;129;01min\u001b[39;00m structure)\n\u001b[1;32m    914\u001b[0m entries \u001b[38;5;241m=\u001b[39m \u001b[38;5;28mzip\u001b[39m(\u001b[38;5;241m*\u001b[39mflat_structure)\n\u001b[1;32m    916\u001b[0m \u001b[38;5;28;01mreturn\u001b[39;00m pack_sequence_as(\n\u001b[0;32m--> 917\u001b[0m     structure[\u001b[38;5;241m0\u001b[39m], [\u001b[43mfunc\u001b[49m\u001b[43m(\u001b[49m\u001b[38;5;241;43m*\u001b[39;49m\u001b[43mx\u001b[49m\u001b[43m)\u001b[49m \u001b[38;5;28;01mfor\u001b[39;00m x \u001b[38;5;129;01min\u001b[39;00m entries],\n\u001b[1;32m    918\u001b[0m     expand_composites\u001b[38;5;241m=\u001b[39mexpand_composites)\n",
      "File \u001b[0;32m~/opt/anaconda3/envs/qml/lib/python3.9/site-packages/keras/utils/tf_utils.py:628\u001b[0m, in \u001b[0;36msync_to_numpy_or_python_type.<locals>._to_single_numpy_or_python_type\u001b[0;34m(t)\u001b[0m\n\u001b[1;32m    625\u001b[0m \u001b[38;5;28;01mdef\u001b[39;00m \u001b[38;5;21m_to_single_numpy_or_python_type\u001b[39m(t):\n\u001b[1;32m    626\u001b[0m     \u001b[38;5;66;03m# Don't turn ragged or sparse tensors to NumPy.\u001b[39;00m\n\u001b[1;32m    627\u001b[0m     \u001b[38;5;28;01mif\u001b[39;00m \u001b[38;5;28misinstance\u001b[39m(t, tf\u001b[38;5;241m.\u001b[39mTensor):\n\u001b[0;32m--> 628\u001b[0m         t \u001b[38;5;241m=\u001b[39m \u001b[43mt\u001b[49m\u001b[38;5;241;43m.\u001b[39;49m\u001b[43mnumpy\u001b[49m\u001b[43m(\u001b[49m\u001b[43m)\u001b[49m\n\u001b[1;32m    629\u001b[0m     \u001b[38;5;66;03m# Strings, ragged and sparse tensors don't have .item(). Return them\u001b[39;00m\n\u001b[1;32m    630\u001b[0m     \u001b[38;5;66;03m# as-is.\u001b[39;00m\n\u001b[1;32m    631\u001b[0m     \u001b[38;5;28;01mif\u001b[39;00m \u001b[38;5;129;01mnot\u001b[39;00m \u001b[38;5;28misinstance\u001b[39m(t, (np\u001b[38;5;241m.\u001b[39mndarray, np\u001b[38;5;241m.\u001b[39mgeneric)):\n",
      "File \u001b[0;32m~/opt/anaconda3/envs/qml/lib/python3.9/site-packages/tensorflow/python/framework/ops.py:1157\u001b[0m, in \u001b[0;36m_EagerTensorBase.numpy\u001b[0;34m(self)\u001b[0m\n\u001b[1;32m   1134\u001b[0m \u001b[38;5;124;03m\"\"\"Copy of the contents of this Tensor into a NumPy array or scalar.\u001b[39;00m\n\u001b[1;32m   1135\u001b[0m \n\u001b[1;32m   1136\u001b[0m \u001b[38;5;124;03mUnlike NumPy arrays, Tensors are immutable, so this method has to copy\u001b[39;00m\n\u001b[0;32m   (...)\u001b[0m\n\u001b[1;32m   1154\u001b[0m \u001b[38;5;124;03m    NumPy dtype.\u001b[39;00m\n\u001b[1;32m   1155\u001b[0m \u001b[38;5;124;03m\"\"\"\u001b[39;00m\n\u001b[1;32m   1156\u001b[0m \u001b[38;5;66;03m# TODO(slebedev): Consider avoiding a copy for non-CPU or remote tensors.\u001b[39;00m\n\u001b[0;32m-> 1157\u001b[0m maybe_arr \u001b[38;5;241m=\u001b[39m \u001b[38;5;28;43mself\u001b[39;49m\u001b[38;5;241;43m.\u001b[39;49m\u001b[43m_numpy\u001b[49m\u001b[43m(\u001b[49m\u001b[43m)\u001b[49m  \u001b[38;5;66;03m# pylint: disable=protected-access\u001b[39;00m\n\u001b[1;32m   1158\u001b[0m \u001b[38;5;28;01mreturn\u001b[39;00m maybe_arr\u001b[38;5;241m.\u001b[39mcopy() \u001b[38;5;28;01mif\u001b[39;00m \u001b[38;5;28misinstance\u001b[39m(maybe_arr, np\u001b[38;5;241m.\u001b[39mndarray) \u001b[38;5;28;01melse\u001b[39;00m maybe_arr\n",
      "File \u001b[0;32m~/opt/anaconda3/envs/qml/lib/python3.9/site-packages/tensorflow/python/framework/ops.py:1123\u001b[0m, in \u001b[0;36m_EagerTensorBase._numpy\u001b[0;34m(self)\u001b[0m\n\u001b[1;32m   1121\u001b[0m \u001b[38;5;28;01mdef\u001b[39;00m \u001b[38;5;21m_numpy\u001b[39m(\u001b[38;5;28mself\u001b[39m):\n\u001b[1;32m   1122\u001b[0m   \u001b[38;5;28;01mtry\u001b[39;00m:\n\u001b[0;32m-> 1123\u001b[0m     \u001b[38;5;28;01mreturn\u001b[39;00m \u001b[38;5;28;43mself\u001b[39;49m\u001b[38;5;241;43m.\u001b[39;49m\u001b[43m_numpy_internal\u001b[49m\u001b[43m(\u001b[49m\u001b[43m)\u001b[49m\n\u001b[1;32m   1124\u001b[0m   \u001b[38;5;28;01mexcept\u001b[39;00m core\u001b[38;5;241m.\u001b[39m_NotOkStatusException \u001b[38;5;28;01mas\u001b[39;00m e:  \u001b[38;5;66;03m# pylint: disable=protected-access\u001b[39;00m\n\u001b[1;32m   1125\u001b[0m     \u001b[38;5;28;01mraise\u001b[39;00m core\u001b[38;5;241m.\u001b[39m_status_to_exception(e) \u001b[38;5;28;01mfrom\u001b[39;00m \u001b[38;5;28mNone\u001b[39m\n",
      "\u001b[0;31mKeyboardInterrupt\u001b[0m: "
     ]
    }
   ],
   "source": [
    "cmodel.fit(x_train,\n",
    "          y_train_onehot,\n",
    "          batch_size=128,\n",
    "          epochs=10,\n",
    "          verbose=1,\n",
    "          validation_data=(x_test[:1000], y_test_onehot[:1000]),\n",
    "          callbacks=[tensorboard_callback,model_ckpt])\n",
    "\n",
    "cnn_results = cmodel.evaluate(x_test, y_test_onehot)"
   ]
  },
  {
   "cell_type": "markdown",
   "id": "1c7ab7de-6af4-479c-afc5-dbc7e418c2a5",
   "metadata": {},
   "source": [
    "### Analysis of classical layers using Tensorboard\n",
    "The CNN model accomplishes the classification task incredibly well averaging 98% in performance. We can confirm the performance with the confusion matrix where the model predicted the hand written digits for all 10000 images in the test set. The state of the art classical image classification ML models can accomplish similar performances for incredibly complex images using customized feature extraction, trainable layers and other techniques. "
   ]
  },
  {
   "cell_type": "code",
   "execution_count": 10,
   "id": "470feb6d-0295-461e-b2fc-b1ba1040b280",
   "metadata": {},
   "outputs": [
    {
     "name": "stdout",
     "output_type": "stream",
     "text": [
      " 19/313 [>.............................] - ETA: 1s"
     ]
    },
    {
     "name": "stderr",
     "output_type": "stream",
     "text": [
      "2022-11-28 17:50:03.859374: I tensorflow/core/grappler/optimizers/custom_graph_optimizer_registry.cc:114] Plugin optimizer for device_type GPU is enabled.\n"
     ]
    },
    {
     "name": "stdout",
     "output_type": "stream",
     "text": [
      "313/313 [==============================] - 2s 4ms/step\n",
      "[7 2 1 ... 4 5 6] [7 2 1 ... 4 5 6]\n"
     ]
    }
   ],
   "source": [
    "y_pred = cmodel.predict(x_test)\n",
    "y_pred = np.argmax(y_pred, axis=1)\n",
    "print(y_pred, y_test)"
   ]
  },
  {
   "cell_type": "code",
   "execution_count": 11,
   "id": "ba017d8b-d192-4751-9f5e-ff6657202942",
   "metadata": {},
   "outputs": [
    {
     "data": {
      "text/plain": [
       "<AxesSubplot: title={'center': 'Confusion Matrix'}, xlabel='Predicted label', ylabel='True label'>"
      ]
     },
     "execution_count": 11,
     "metadata": {},
     "output_type": "execute_result"
    },
    {
     "data": {
      "image/png": "[encoded data removed]",
      "text/plain": [
       "<Figure size 700x700 with 2 Axes>"
      ]
     },
     "metadata": {},
     "output_type": "display_data"
    }
   ],
   "source": [
    "fig, ax = plt.subplots(figsize=(7,7))\n",
    "plot_confusion_matrix(y_test, y_pred, ax=ax)"
   ]
  },
  {
   "cell_type": "code",
   "execution_count": null,
   "id": "e284f625-24f4-4a37-92fa-1615564b4cd9",
   "metadata": {},
   "outputs": [],
   "source": []
  },
  {
   "cell_type": "markdown",
   "id": "31df6489-ea92-4f2f-8c8e-b5a4b057faec",
   "metadata": {},
   "source": [
    "What we see here is that the model can properly classify images incredibly well with a classical CNN. Let's see how a quantum machine learning model stacks up. A "
   ]
  },
  {
   "cell_type": "markdown",
   "id": "8c645d08-a345-4a4f-8a7c-96584f38616a",
   "metadata": {},
   "source": [
    "## Quantum Computing and it's proposed benefits and limitations\n",
    "Using a quantum computer for a classical machine learning does have its limitations. In fact, this notebook should illustrate to you *why* there needs to be immense progress in hardware and software until a quantum computer is suitable for a classical image lassifiation task. Nonetheless, it's a fun and wonderfully entry point for those with an inclination for machine learning to appreciate the current challenges in QML."
   ]
  },
  {
   "cell_type": "markdown",
   "id": "71533f24-d6a5-407d-8feb-64b60103e1aa",
   "metadata": {},
   "source": [
    "### Current challenge 1: embedding and decoding classical data using quantum circuits\n",
    "\n",
    "During the NISQ era, there are severe limitations with how to encoding the images onto a quantum register for gate based implementations. For MNIST, the full image cannot be encoded into a quantum register; therefore, downsampling techniques are used to reduce the image size.\n",
    "\n",
    "- How many qubits are needed\n",
    "\n"
   ]
  },
  {
   "cell_type": "markdown",
   "id": "cd635b77-fb76-4dd3-9c74-ee8507b11f8c",
   "metadata": {},
   "source": [
    "### Current challenge 2: there aren't enough qubits and the qubits that are available are prone to error\n",
    "How many qubits are needed for encoding  \n",
    "\n"
   ]
  },
  {
   "cell_type": "markdown",
   "id": "8968506a-9e26-4a0b-bb1d-4979ad50f1c3",
   "metadata": {},
   "source": [
    "### Current challenge 2: cost of running circuits\n",
    "\n",
    "During the NISQ era, there are severe limitations with how to encoding the images onto a quantum register for gate based implementations. For MNIST, the full image cannot be encoded into a quantum register; therefore, downsampling techniques are used to reduce the image size.\n",
    "\n",
    "- How many qubits are needed\n",
    "\n"
   ]
  },
  {
   "cell_type": "markdown",
   "id": "66e90f47-de9f-4a4d-8cba-54711809f2fd",
   "metadata": {},
   "source": [
    "## Preprocess the MNIST dataset for quantum computing\n",
    "For this demo, we will only apply one classical preprocessing technique and different embedding techniques. This is a non-standard process since embedding techniques can vary in # of qubits,\n",
    "\n",
    "Further we will keep the quantum layers to be the same for each of the embedding processes."
   ]
  },
  {
   "cell_type": "markdown",
   "id": "18b2b217-45c4-4f1d-a9a9-8de7c0f57a77",
   "metadata": {},
   "source": [
    "### Preprocess\n",
    "The preprocess will be to comfortably encode the image using 8 qubits and various embedding techniques. The process will first:\n",
    "1. Remove the 5 pixel border around the image which contains no data.\n",
    "2. Resize the image to 16 x 16."
   ]
  },
  {
   "cell_type": "code",
   "execution_count": 32,
   "id": "c29d8002-ef90-4e07-9145-a0be24870575",
   "metadata": {},
   "outputs": [
    {
     "name": "stdout",
     "output_type": "stream",
     "text": [
      "(60000, 22, 22, 1)\n"
     ]
    }
   ],
   "source": [
    "print(x_train_crop.shape)"
   ]
  },
  {
   "cell_type": "code",
   "execution_count": 40,
   "id": "56897968-64e0-40b8-a4e0-fd59e55e848a",
   "metadata": {},
   "outputs": [
    {
     "name": "stdout",
     "output_type": "stream",
     "text": [
      "The batch size is: 60000 images\n",
      "Image height and width: (16, 16, 1)\n"
     ]
    }
   ],
   "source": [
    "# Crop and remove border from image\n",
    "x_train_crop = np.array([x.reshape(28,28)[4:26,4:26] for x in x_train])\n",
    "x_test_crop =np.array([x.reshape(28,28)[4:26,3:26] for x in x_test])\n",
    "\n",
    "# Add channel dimension to dataset for resizing [ batch, height, width, channel]\n",
    "x_train_crop = x_train_crop[..., np.newaxis]\n",
    "x_test_crop = x_test_crop[..., np.newaxis]\n",
    "\n",
    "# Resize image to fit on register\n",
    "x_train_256 = tf.image.resize(x_train_crop, [16,16]).numpy()\n",
    "x_test_256 = tf.image.resize(x_test_crop, [16,16]).numpy()\n",
    "\n",
    "# Confirm dataset is still correct batch and shape\n",
    "print(f'The batch size is: {len(x_train_256)} images')\n",
    "print(f'Image height and width: {x_train_256[10].shape}')"
   ]
  },
  {
   "cell_type": "code",
   "execution_count": 41,
   "id": "bc609c0e-bfce-4bbc-b953-bf9351bae3b0",
   "metadata": {},
   "outputs": [
    {
     "data": {
      "text/plain": [
       "<matplotlib.image.AxesImage at 0x28aa08040>"
      ]
     },
     "execution_count": 41,
     "metadata": {},
     "output_type": "execute_result"
    },
    {
     "data": {
      "image/png": "[encoded data removed]",
      "text/plain": [
       "<Figure size 640x480 with 1 Axes>"
      ]
     },
     "metadata": {},
     "output_type": "display_data"
    }
   ],
   "source": [
    "plt.imshow(x_train_256[599])"
   ]
  },
  {
   "cell_type": "markdown",
   "id": "5f92f2f4-3574-4655-ab04-6325eadea123",
   "metadata": {},
   "source": [
    "### Methods of embedding the image into a circuit\n",
    "\n",
    "First we need to pre-process the data to ensure it can be embedded."
   ]
  },
  {
   "cell_type": "code",
   "execution_count": 14,
   "id": "41b1b1a9-8de9-4f52-a024-b312fb2c8141",
   "metadata": {},
   "outputs": [],
   "source": [
    "#constants\n",
    "wires=8\n"
   ]
  },
  {
   "cell_type": "markdown",
   "id": "219d4af1-1f1e-4885-801b-8ada335477ca",
   "metadata": {},
   "source": [
    "#### Angle Embedding\n",
    "Angle embedding encodes the image data as rotations applied to the qubit. To fit the data on 8 qubits we will encode each of the "
   ]
  },
  {
   "cell_type": "code",
   "execution_count": null,
   "id": "a02734ba-3c8a-48db-83c5-3872721e7594",
   "metadata": {},
   "outputs": [],
   "source": []
  },
  {
   "cell_type": "markdown",
   "id": "1d2b595c-96c2-428d-82d5-9e0fe08a6db6",
   "metadata": {},
   "source": [
    "#### Amplitude Embedding\n",
    "With amplitude embedding we will encode $2^n$ features where $n$ represents the number of qubits. "
   ]
  },
  {
   "cell_type": "code",
   "execution_count": 54,
   "id": "1dfa5375-1f37-49d9-98d4-7d6c115eab28",
   "metadata": {},
   "outputs": [],
   "source": [
    "# we will develop the embedding circuit\n",
    "dev = qml.device('default.qubit', wires=wires)\n",
    "@qml.qnode(dev)\n",
    "def amplitude_embedding(inputs):\n",
    "    qml.AmplitudeEmbedding(features=inputs, wires=range(8), normalize=True)\n",
    "    return qml.expval(qml.PauliZ(0))"
   ]
  },
  {
   "cell_type": "markdown",
   "id": "8d819153-93e1-44c9-9bdb-de3e01d1bcaa",
   "metadata": {},
   "source": [
    "We can verify that our amplitude properly embeds an image into the circuit. The circuit encodes 256 pixels on 8 registers (wires) and returns a Z basis measurement of the first wire. "
   ]
  },
  {
   "cell_type": "code",
   "execution_count": 58,
   "id": "67304193-29f1-4f6b-af7d-ebfc56908cac",
   "metadata": {},
   "outputs": [
    {
     "name": "stdout",
     "output_type": "stream",
     "text": [
      "0: ─╭AmplitudeEmbedding(M0)─┤  <Z>\n",
      "1: ─├AmplitudeEmbedding(M0)─┤     \n",
      "2: ─├AmplitudeEmbedding(M0)─┤     \n",
      "3: ─├AmplitudeEmbedding(M0)─┤     \n",
      "4: ─├AmplitudeEmbedding(M0)─┤     \n",
      "5: ─├AmplitudeEmbedding(M0)─┤     \n",
      "6: ─├AmplitudeEmbedding(M0)─┤     \n",
      "7: ─╰AmplitudeEmbedding(M0)─┤     \n"
     ]
    }
   ],
   "source": [
    "print(qml.draw(amplitude_embedding)(x_train_256[0].flatten()))"
   ]
  },
  {
   "cell_type": "markdown",
   "id": "b78484cd-36fa-4f3e-ae36-f9907134d9dd",
   "metadata": {},
   "source": [
    "##### What does this embedding strategy look like?\n",
    "By displaying the block sphere we see that the circuit is \n"
   ]
  },
  {
   "cell_type": "code",
   "execution_count": 15,
   "id": "0bc6d196-d22b-4af6-9ceb-465ad72921e8",
   "metadata": {},
   "outputs": [],
   "source": [
    "\n",
    "\n",
    "def amm_strategy(wires): \n",
    "    \"\"\"\n",
    "    All-qubit Multi-observable Measurement (AMM) strategy applies pauli operators \n",
    "    X, Y, Z on all qubits to extract features from disentangled quantum state\n",
    "    (Zeng et al.).\n",
    "    \"\"\"\n",
    "    readout = []\n",
    "    # Applies pauli\n",
    "    for i in range(8):\n",
    "        readout.append(qml.expval(qml.PauliX(i)))\n",
    "        readout.append(qml.expval(qml.PauliY(i)))\n",
    "        readout.append(qml.expval(qml.PauliZ(i)))            \n",
    "    return  readout\n",
    "    \n",
    "@qml.qnode(dev)\n",
    "def quantum_layer(inputs,weights):\n",
    "    qml.AmplitudeEmbedding(features=inputs, wires=range(8), normalize=True)\n",
    "    qml.templates.StronglyEntanglingLayers(weights, wires=range(8))\n",
    "    return amm_strategy(wires)"
   ]
  },
  {
   "cell_type": "code",
   "execution_count": 42,
   "id": "65d7d99e-35e9-4ae4-b8d1-85552df94b15",
   "metadata": {},
   "outputs": [
    {
     "name": "stdout",
     "output_type": "stream",
     "text": [
      "(1, 8, 3)\n",
      "0: ─╭AmplitudeEmbedding(M0)─╭StronglyEntanglingLayers(M1)─┤  <X>  <Y>  <Z>\n",
      "1: ─├AmplitudeEmbedding(M0)─├StronglyEntanglingLayers(M1)─┤  <X>  <Y>  <Z>\n",
      "2: ─├AmplitudeEmbedding(M0)─├StronglyEntanglingLayers(M1)─┤  <X>  <Y>  <Z>\n",
      "3: ─├AmplitudeEmbedding(M0)─├StronglyEntanglingLayers(M1)─┤  <X>  <Y>  <Z>\n",
      "4: ─├AmplitudeEmbedding(M0)─├StronglyEntanglingLayers(M1)─┤  <X>  <Y>  <Z>\n",
      "5: ─├AmplitudeEmbedding(M0)─├StronglyEntanglingLayers(M1)─┤  <X>  <Y>  <Z>\n",
      "6: ─├AmplitudeEmbedding(M0)─├StronglyEntanglingLayers(M1)─┤  <X>  <Y>  <Z>\n",
      "7: ─╰AmplitudeEmbedding(M0)─╰StronglyEntanglingLayers(M1)─┤  <X>  <Y>  <Z>\n"
     ]
    }
   ],
   "source": [
    "shape = qml.StronglyEntanglingLayers.shape(n_layers=1, n_wires=8)\n",
    "weights = np.random.random(size=shape)\n",
    "print(weights.shape)\n",
    "print(qml.draw(quantum_layer)(x_train_256[0].flatten(), weights))"
   ]
  },
  {
   "cell_type": "code",
   "execution_count": 17,
   "id": "9baab504-aeb9-48e4-8dd6-b206819010f4",
   "metadata": {},
   "outputs": [],
   "source": [
    "weight_shapes = {\"weights\": (1,8,3) }\n",
    "qlayer = qml.qnn.KerasLayer(quantum_layer, weight_shapes, output_dim=24)"
   ]
  },
  {
   "cell_type": "markdown",
   "id": "d7c5b1ce-e38b-4f17-8d2f-572ac50f4549",
   "metadata": {},
   "source": [
    "The model we will use will only use the embedding circuit and the strongly entangling layers to verify the performance. "
   ]
  },
  {
   "cell_type": "code",
   "execution_count": 18,
   "id": "accaa1d8-15f1-498d-92f5-4f7ba7257667",
   "metadata": {},
   "outputs": [],
   "source": [
    "# Build the Keras model.\n",
    "qmodel = tf.keras.Sequential([\n",
    "# The input is the data-circuit, encoded as a tf.string\n",
    "    tf.keras.layers.Flatten(),\n",
    "    qlayer,\n",
    "    tf.keras.layers.Dense(10, activation='softmax')\n",
    "])"
   ]
  },
  {
   "cell_type": "code",
   "execution_count": 19,
   "id": "bfab5321-053e-4aac-820e-36c0718a21b2",
   "metadata": {},
   "outputs": [],
   "source": [
    "qmodel.compile(\n",
    "    loss=tf.keras.losses.CategoricalCrossentropy(),\n",
    "    metrics=[tf.keras.metrics.CategoricalAccuracy()],\n",
    "    optimizer=tf.keras.optimizers.Adam(0.02))\n",
    "qmodel.build(input_shape=[32,16,16,1])"
   ]
  },
  {
   "cell_type": "code",
   "execution_count": 20,
   "id": "16547416-08df-4ada-aad8-9d8fa3082dbd",
   "metadata": {},
   "outputs": [
    {
     "name": "stdout",
     "output_type": "stream",
     "text": [
      "Model: \"sequential_1\"\n",
      "_________________________________________________________________\n",
      " Layer (type)                Output Shape              Param #   \n",
      "=================================================================\n",
      " flatten_1 (Flatten)         (32, 256)                 0         \n",
      "                                                                 \n",
      " keras_layer (KerasLayer)    (32, 24)                  0 (unused)\n",
      "                                                                 \n",
      " dense_2 (Dense)             (32, 10)                  250       \n",
      "                                                                 \n",
      "=================================================================\n",
      "Total params: 250\n",
      "Trainable params: 250\n",
      "Non-trainable params: 0\n",
      "_________________________________________________________________\n"
     ]
    }
   ],
   "source": [
    "qmodel.summary()"
   ]
  },
  {
   "cell_type": "code",
   "execution_count": null,
   "id": "3f1de66b-82e1-45ca-a615-0c0389dfb0fc",
   "metadata": {},
   "outputs": [],
   "source": [
    "qnn_history = qmodel.fit(x_train_256[:1000],\n",
    "          y_train_onehot[:1000],\n",
    "          batch_size=32,\n",
    "          epochs=5,\n",
    "          verbose=1,\n",
    "          validation_data=(x_test_256[:1000], y_test_onehot[:1000]),\n",
    "          callbacks=[tensorboard_callback,model_ckpt])"
   ]
  },
  {
   "cell_type": "code",
   "execution_count": null,
   "id": "eb38806e-ef84-48d9-9046-940de5edaf6e",
   "metadata": {},
   "outputs": [],
   "source": [
    "qnn_results = qmodel.evaluate(x_test_256, y_test_onehot)"
   ]
  },
  {
   "cell_type": "code",
   "execution_count": null,
   "id": "ca4468be-7a10-4582-9931-b093d0536f20",
   "metadata": {},
   "outputs": [],
   "source": [
    "y_pred = qmodel.predict(x_test_256)\n",
    "y_pred = np.argmax(y_pred, axis=1)\n",
    "print(y_pred, y_test)"
   ]
  },
  {
   "cell_type": "code",
   "execution_count": null,
   "id": "68d53dd9-4611-45ba-81c6-12a184ba67a7",
   "metadata": {},
   "outputs": [],
   "source": [
    "fig, ax = plt.subplots(figsize=(16,12))\n",
    "plot_confusion_matrix(y_test, y_pred, ax=ax)"
   ]
  },
  {
   "cell_type": "markdown",
   "id": "eef5e026-febd-4430-8bbc-6872c2bdda62",
   "metadata": {},
   "source": [
    "#### Other Technique from a paper"
   ]
  },
  {
   "cell_type": "code",
   "execution_count": null,
   "id": "370e4a99-10e0-47c9-b8c3-1f2be99e6631",
   "metadata": {},
   "outputs": [],
   "source": []
  },
  {
   "cell_type": "markdown",
   "id": "a91db1db-1c6c-4f4b-b01e-1a0625b2dd86",
   "metadata": {},
   "source": [
    "### Other techniques (kernel methods etc)."
   ]
  },
  {
   "cell_type": "markdown",
   "id": "840e9330-e962-452e-a8bb-1ffac8492ce3",
   "metadata": {},
   "source": [
    "### Running a model\n"
   ]
  },
  {
   "cell_type": "markdown",
   "id": "907f20db-1156-4ebd-b169-69bfc6e1ab17",
   "metadata": {},
   "source": [
    "#### Analysis of current implementations using Tensorboard and qBraid SDK"
   ]
  },
  {
   "cell_type": "code",
   "execution_count": null,
   "id": "bed38bb2-1ef6-4c58-83db-ecb1ae264532",
   "metadata": {},
   "outputs": [],
   "source": [
    "%tensorboard --logdir logs"
   ]
  },
  {
   "cell_type": "markdown",
   "id": "3c4a9c45-4b56-482a-a3dd-3cb9f297972b",
   "metadata": {},
   "source": [
    "## Other methods, kernel methods"
   ]
  },
  {
   "cell_type": "code",
   "execution_count": 43,
   "id": "f72b6af9-1172-422b-bd74-e7dbfcfee970",
   "metadata": {},
   "outputs": [],
   "source": [
    "# Build the Keras model.\n",
    "fair_model = tf.keras.Sequential([\n",
    "# The input is the data-circuit, encoded as a tf.string\n",
    "    tf.keras.layers.Flatten(),\n",
    "    tf.keras.layers.Dense(10, activation='softmax')\n",
    "])"
   ]
  },
  {
   "cell_type": "code",
   "execution_count": 44,
   "id": "e6df5e05-2ef4-4888-8bec-aac387b85203",
   "metadata": {},
   "outputs": [],
   "source": [
    "fair_model.compile(\n",
    "    loss=tf.keras.losses.CategoricalCrossentropy(),\n",
    "    metrics=[tf.keras.metrics.CategoricalAccuracy()],\n",
    "    optimizer=tf.keras.optimizers.Adam(0.02))\n",
    "fair_model.build(input_shape=[32,16,16,1])"
   ]
  },
  {
   "cell_type": "code",
   "execution_count": 45,
   "id": "dfd57398-0ffa-40cb-984c-cb9f99f823db",
   "metadata": {},
   "outputs": [
    {
     "name": "stdout",
     "output_type": "stream",
     "text": [
      "Model: \"sequential_2\"\n",
      "_________________________________________________________________\n",
      " Layer (type)                Output Shape              Param #   \n",
      "=================================================================\n",
      " flatten_2 (Flatten)         (32, 256)                 0         \n",
      "                                                                 \n",
      " dense_3 (Dense)             (32, 10)                  2570      \n",
      "                                                                 \n",
      "=================================================================\n",
      "Total params: 2,570\n",
      "Trainable params: 2,570\n",
      "Non-trainable params: 0\n",
      "_________________________________________________________________\n"
     ]
    }
   ],
   "source": [
    "fair_model.summary()"
   ]
  },
  {
   "cell_type": "code",
   "execution_count": 46,
   "id": "1479b256-e724-4412-a2bf-91fc4ce7b0c0",
   "metadata": {},
   "outputs": [
    {
     "name": "stdout",
     "output_type": "stream",
     "text": [
      "Epoch 1/5\n"
     ]
    },
    {
     "name": "stderr",
     "output_type": "stream",
     "text": [
      "2022-11-28 21:28:57.590998: I tensorflow/core/grappler/optimizers/custom_graph_optimizer_registry.cc:114] Plugin optimizer for device_type GPU is enabled.\n"
     ]
    },
    {
     "name": "stdout",
     "output_type": "stream",
     "text": [
      " 1/32 [..............................] - ETA: 26s - loss: 2.4211 - categorical_accuracy: 0.0625"
     ]
    },
    {
     "name": "stderr",
     "output_type": "stream",
     "text": [
      "2022-11-28 21:28:58.008965: I tensorflow/core/profiler/lib/profiler_session.cc:101] Profiler session initializing.\n",
      "2022-11-28 21:28:58.008980: I tensorflow/core/profiler/lib/profiler_session.cc:116] Profiler session started.\n",
      "2022-11-28 21:28:58.205718: I tensorflow/core/profiler/lib/profiler_session.cc:67] Profiler session collecting data.\n"
     ]
    },
    {
     "name": "stdout",
     "output_type": "stream",
     "text": [
      " 3/32 [=>............................] - ETA: 4s - loss: 2.3433 - categorical_accuracy: 0.1667 "
     ]
    },
    {
     "name": "stderr",
     "output_type": "stream",
     "text": [
      "2022-11-28 21:28:58.227071: I tensorflow/core/profiler/lib/profiler_session.cc:128] Profiler session tear down.\n",
      "2022-11-28 21:28:58.265920: I tensorflow/core/profiler/rpc/client/save_profile.cc:136] Creating directory: logs/tensorboard/20221128-191342/plugins/profile/2022_11_28_21_28_58\n",
      "\n",
      "2022-11-28 21:28:58.269940: I tensorflow/core/profiler/rpc/client/save_profile.cc:142] Dumped gzipped tool data for trace.json.gz to logs/tensorboard/20221128-191342/plugins/profile/2022_11_28_21_28_58/RickynoMacBook-Pro.local.trace.json.gz\n",
      "2022-11-28 21:28:58.302032: I tensorflow/core/profiler/rpc/client/save_profile.cc:136] Creating directory: logs/tensorboard/20221128-191342/plugins/profile/2022_11_28_21_28_58\n",
      "\n"
     ]
    },
    {
     "name": "stdout",
     "output_type": "stream",
     "text": [
      "25/32 [======================>.......] - ETA: 0s - loss: 1.1064 - categorical_accuracy: 0.6750"
     ]
    },
    {
     "name": "stderr",
     "output_type": "stream",
     "text": [
      "2022-11-28 21:28:58.302295: I tensorflow/core/profiler/rpc/client/save_profile.cc:142] Dumped gzipped tool data for memory_profile.json.gz to logs/tensorboard/20221128-191342/plugins/profile/2022_11_28_21_28_58/RickynoMacBook-Pro.local.memory_profile.json.gz\n",
      "2022-11-28 21:28:58.302619: I tensorflow/core/profiler/rpc/client/capture_profile.cc:251] Creating directory: logs/tensorboard/20221128-191342/plugins/profile/2022_11_28_21_28_58\n",
      "Dumped tool data for xplane.pb to logs/tensorboard/20221128-191342/plugins/profile/2022_11_28_21_28_58/RickynoMacBook-Pro.local.xplane.pb\n",
      "Dumped tool data for overview_page.pb to logs/tensorboard/20221128-191342/plugins/profile/2022_11_28_21_28_58/RickynoMacBook-Pro.local.overview_page.pb\n",
      "Dumped tool data for input_pipeline.pb to logs/tensorboard/20221128-191342/plugins/profile/2022_11_28_21_28_58/RickynoMacBook-Pro.local.input_pipeline.pb\n",
      "Dumped tool data for tensorflow_stats.pb to logs/tensorboard/20221128-191342/plugins/profile/2022_11_28_21_28_58/Ricky"
     ]
    },
    {
     "name": "stdout",
     "output_type": "stream",
     "text": [
      "27/32 [========================>.....] - ETA: 0s - loss: 1.0642 - categorical_accuracy: 0.6898"
     ]
    },
    {
     "name": "stderr",
     "output_type": "stream",
     "text": [
      "noMacBook-Pro.local.tensorflow_stats.pb\n",
      "Dumped tool data for kernel_stats.pb to logs/tensorboard/20221128-191342/plugins/profile/2022_11_28_21_28_58/RickynoMacBook-Pro.local.kernel_stats.pb\n",
      "\n"
     ]
    },
    {
     "name": "stdout",
     "output_type": "stream",
     "text": [
      "32/32 [==============================] - ETA: 0s - loss: 0.9908 - categorical_accuracy: 0.7070"
     ]
    },
    {
     "name": "stderr",
     "output_type": "stream",
     "text": [
      "2022-11-28 21:29:00.669919: I tensorflow/core/grappler/optimizers/custom_graph_optimizer_registry.cc:114] Plugin optimizer for device_type GPU is enabled.\n"
     ]
    },
    {
     "name": "stdout",
     "output_type": "stream",
     "text": [
      "32/32 [==============================] - 5s 133ms/step - loss: 0.9908 - categorical_accuracy: 0.7070 - val_loss: 0.6895 - val_categorical_accuracy: 0.7970\n",
      "Epoch 2/5\n",
      "32/32 [==============================] - 1s 26ms/step - loss: 0.4232 - categorical_accuracy: 0.8730 - val_loss: 0.6121 - val_categorical_accuracy: 0.8190\n",
      "Epoch 3/5\n",
      "32/32 [==============================] - 0s 14ms/step - loss: 0.3077 - categorical_accuracy: 0.9180 - val_loss: 0.5371 - val_categorical_accuracy: 0.8360\n",
      "Epoch 4/5\n",
      "32/32 [==============================] - 0s 14ms/step - loss: 0.2478 - categorical_accuracy: 0.9330 - val_loss: 0.5073 - val_categorical_accuracy: 0.8380\n",
      "Epoch 5/5\n",
      "32/32 [==============================] - 0s 15ms/step - loss: 0.2102 - categorical_accuracy: 0.9490 - val_loss: 0.4955 - val_categorical_accuracy: 0.8420\n"
     ]
    }
   ],
   "source": [
    "fair_model_history = fair_model.fit(x_train_256[:1000],\n",
    "          y_train_onehot[:1000],\n",
    "          batch_size=32,\n",
    "          epochs=5,\n",
    "          verbose=1,\n",
    "          validation_data=(x_test_256[:1000], y_test_onehot[:1000]),\n",
    "          callbacks=[tensorboard_callback,model_ckpt])"
   ]
  },
  {
   "cell_type": "code",
   "execution_count": 47,
   "id": "e2d9e34a-e3f3-4f95-b3d9-cdd2ddf960cb",
   "metadata": {},
   "outputs": [
    {
     "name": "stdout",
     "output_type": "stream",
     "text": [
      "313/313 [==============================] - 2s 7ms/step - loss: 0.4804 - categorical_accuracy: 0.8583\n"
     ]
    }
   ],
   "source": [
    "fair_results = fair_model.evaluate(x_test_256, y_test_onehot)"
   ]
  },
  {
   "cell_type": "code",
   "execution_count": 50,
   "id": "8c9a3412-502e-4f09-a5b3-8483e43ebedd",
   "metadata": {},
   "outputs": [
    {
     "name": "stdout",
     "output_type": "stream",
     "text": [
      "313/313 [==============================] - 0s 1ms/step\n",
      "[7 2 1 ... 4 5 6] [7 2 1 ... 4 8 6]\n"
     ]
    }
   ],
   "source": [
    "y_fair_pred = fair_model.predict(x_test_256)\n",
    "y_fair_pred = np.argmax(y_fair_pred, axis=1)\n",
    "print(y_test, y_fair_pred)"
   ]
  },
  {
   "cell_type": "code",
   "execution_count": 51,
   "id": "89f7bb3b-198f-440c-9d20-1f5a995ee641",
   "metadata": {},
   "outputs": [
    {
     "data": {
      "text/plain": [
       "<AxesSubplot: title={'center': 'Confusion Matrix'}, xlabel='Predicted label', ylabel='True label'>"
      ]
     },
     "execution_count": 51,
     "metadata": {},
     "output_type": "execute_result"
    },
    {
     "data": {
      "image/png": "[encoded data removed]",
      "text/plain": [
       "<Figure size 1600x1200 with 2 Axes>"
      ]
     },
     "metadata": {},
     "output_type": "display_data"
    }
   ],
   "source": [
    "fig, ax = plt.subplots(figsize=(16,12))\n",
    "plot_confusion_matrix(y_test, y_fair_pred, ax=ax)"
   ]
  },
  {
   "cell_type": "code",
   "execution_count": null,
   "id": "27c9be02-71e1-4a3e-b645-7013cc376d6c",
   "metadata": {},
   "outputs": [],
   "source": [
    "%tensorboard --logdir logs/"
   ]
  },
  {
   "cell_type": "code",
   "execution_count": 261,
   "id": "77a862dc-01a7-4a60-b145-3826de975a46",
   "metadata": {},
   "outputs": [],
   "source": []
  },
  {
   "cell_type": "code",
   "execution_count": null,
   "id": "2ce1c9ca-0181-44fe-a9a2-91a1d22d32b6",
   "metadata": {},
   "outputs": [],
   "source": []
  }
 ],
 "metadata": {
  "kernelspec": {
   "display_name": "qml",
   "language": "python",
   "name": "qml"
  },
  "language_info": {
   "codemirror_mode": {
    "name": "ipython",
    "version": 3
   },
   "file_extension": ".py",
   "mimetype": "text/x-python",
   "name": "python",
   "nbconvert_exporter": "python",
   "pygments_lexer": "ipython3",
   "version": "3.9.15"
  }
 },
 "nbformat": 4,
 "nbformat_minor": 5
}
